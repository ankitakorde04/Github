{
 "cells": [
  {
   "cell_type": "markdown",
   "id": "d8420578-568a-4e80-a286-6fc6d602de8d",
   "metadata": {},
   "source": [
    "1+1"
   ]
  },
  {
   "cell_type": "code",
   "execution_count": 2,
   "id": "39c245a4-6ca7-4a05-a5f0-71d926366b34",
   "metadata": {},
   "outputs": [
    {
     "data": {
      "text/plain": [
       "'Hello World'"
      ]
     },
     "execution_count": 2,
     "metadata": {},
     "output_type": "execute_result"
    }
   ],
   "source": [
    "\"Hello World\""
   ]
  },
  {
   "cell_type": "code",
   "execution_count": 5,
   "id": "bbfb4239-c274-4dd6-a512-574f1e6c5d2c",
   "metadata": {},
   "outputs": [
    {
     "ename": "SyntaxError",
     "evalue": "invalid syntax (4200082172.py, line 1)",
     "output_type": "error",
     "traceback": [
      "\u001b[0;36m  File \u001b[0;32m\"/tmp/ipykernel_87/4200082172.py\"\u001b[0;36m, line \u001b[0;32m1\u001b[0m\n\u001b[0;31m    myt title\u001b[0m\n\u001b[0m            ^\u001b[0m\n\u001b[0;31mSyntaxError\u001b[0m\u001b[0;31m:\u001b[0m invalid syntax\n"
     ]
    }
   ],
   "source": [
    "myt title"
   ]
  },
  {
   "cell_type": "markdown",
   "id": "8bc96582-72c6-4116-8ee1-ae6a50188cab",
   "metadata": {},
   "source": []
  },
  {
   "cell_type": "code",
   "execution_count": 4,
   "id": "27b10e71-cb5b-4616-84ab-ec98f4e56676",
   "metadata": {},
   "outputs": [
    {
     "data": {
      "text/plain": [
       "16"
      ]
     },
     "execution_count": 4,
     "metadata": {},
     "output_type": "execute_result"
    }
   ],
   "source": [
    "4*4"
   ]
  },
  {
   "cell_type": "markdown",
   "id": "f6d87f55-5b2d-47ed-b315-d6ee3382f8b7",
   "metadata": {},
   "source": [
    "My Title"
   ]
  },
  {
   "cell_type": "markdown",
   "id": "e16911df-4f9c-4e21-9ed8-d0e9fe2c641e",
   "metadata": {},
   "source": [
    "#My Title"
   ]
  },
  {
   "cell_type": "code",
   "execution_count": null,
   "id": "809e12cd-5ede-49b6-a22d-2b0acca0b8d7",
   "metadata": {},
   "outputs": [],
   "source": []
  }
 ],
 "metadata": {
  "kernelspec": {
   "display_name": "Python",
   "language": "python",
   "name": "conda-env-python-py"
  },
  "language_info": {
   "codemirror_mode": {
    "name": "ipython",
    "version": 3
   },
   "file_extension": ".py",
   "mimetype": "text/x-python",
   "name": "python",
   "nbconvert_exporter": "python",
   "pygments_lexer": "ipython3",
   "version": "3.7.12"
  }
 },
 "nbformat": 4,
 "nbformat_minor": 5
}
