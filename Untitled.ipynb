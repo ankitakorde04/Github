{
 "cells": [
  {
   "cell_type": "markdown",
   "id": "a76e655a-aae0-4102-a7d3-ffaed38904ba",
   "metadata": {},
   "source": [
    "My Jupiter Notebook on IBM Watson Studio "
   ]
  },
  {
   "cell_type": "markdown",
   "id": "010d43c4-2190-4caf-a55b-94d4cb302423",
   "metadata": {},
   "source": [
    "<h1>My Jupyter Notebook on IBM Watson Studio<h1>"
   ]
  },
  {
   "cell_type": "markdown",
   "id": "efe03796-6929-4eb7-b61a-a11121abe42d",
   "metadata": {},
   "source": [
    "**Ankita** <br>\n",
    "Data Engineer"
   ]
  },
  {
   "cell_type": "markdown",
   "id": "87f82804-eab6-4050-a4d0-93eefd5984de",
   "metadata": {},
   "source": [
    "*I am interested in data science because I always like to analyze data and work on it.*"
   ]
  },
  {
   "cell_type": "markdown",
   "id": "21cac36c-2017-463a-89fd-b9d69db824d3",
   "metadata": {},
   "source": [
    "<h3>The code in next cell is going to add two numbers<h3>"
   ]
  },
  {
   "cell_type": "code",
   "execution_count": 5,
   "id": "15f6436a-bc8e-4ad5-b18e-54d1f54758a4",
   "metadata": {},
   "outputs": [
    {
     "data": {
      "text/plain": [
       "2"
      ]
     },
     "execution_count": 5,
     "metadata": {},
     "output_type": "execute_result"
    }
   ],
   "source": [
    "1+1"
   ]
  },
  {
   "cell_type": "markdown",
   "id": "b25b6d8a-2539-40ef-8624-7346a03fa9bc",
   "metadata": {},
   "source": [
    "Line 1\n",
    "***\n",
    "Line 2"
   ]
  },
  {
   "cell_type": "markdown",
   "id": "7aec2790-6806-47a2-ad05-f691ee8c46a4",
   "metadata": {},
   "source": [
    "1. Name\n",
    "2. ID\n",
    "3. Address\n",
    "    a. City\n",
    "    b. Pin"
   ]
  },
  {
   "cell_type": "code",
   "execution_count": null,
   "id": "311cdc9b-7199-4b9b-9b85-f42bd79b313f",
   "metadata": {},
   "outputs": [],
   "source": []
  }
 ],
 "metadata": {
  "kernelspec": {
   "display_name": "Python",
   "language": "python",
   "name": "conda-env-python-py"
  },
  "language_info": {
   "codemirror_mode": {
    "name": "ipython",
    "version": 3
   },
   "file_extension": ".py",
   "mimetype": "text/x-python",
   "name": "python",
   "nbconvert_exporter": "python",
   "pygments_lexer": "ipython3",
   "version": "3.7.12"
  }
 },
 "nbformat": 4,
 "nbformat_minor": 5
}
