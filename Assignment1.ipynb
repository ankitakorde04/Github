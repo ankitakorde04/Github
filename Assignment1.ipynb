{
 "cells": [
  {
   "cell_type": "markdown",
   "id": "2c688268-84e7-4e4f-957d-455c8526bf29",
   "metadata": {},
   "source": [
    "<h1>My Jupyter Notebook on IBM Watson Studio<h1>"
   ]
  },
  {
   "cell_type": "markdown",
   "id": "e20c84e9-82fa-44c9-be18-9b645ed1cc94",
   "metadata": {},
   "source": [
    "**Ankita N. Korde** <br>\n",
    "Data Engineer"
   ]
  },
  {
   "cell_type": "markdown",
   "id": "7f6a65f9-c574-4f92-8192-5f4829904273",
   "metadata": {},
   "source": [
    "*I am interested in data science because I have always been interested in analyzing the data and to work on it.In addition, I also have good analytical skills and logical skills.*"
   ]
  },
  {
   "cell_type": "markdown",
   "id": "3f9e7faf-7fc1-4d82-a74e-a9ae962a733e",
   "metadata": {},
   "source": [
    "<h3>The code in next cell is going to add two numbers, that is 5 and 1. "
   ]
  },
  {
   "cell_type": "code",
   "execution_count": 1,
   "id": "d77865f7-11d6-44c2-a584-8bd77c2f7618",
   "metadata": {},
   "outputs": [
    {
     "data": {
      "text/plain": [
       "6"
      ]
     },
     "execution_count": 1,
     "metadata": {},
     "output_type": "execute_result"
    }
   ],
   "source": [
    "5+1"
   ]
  },
  {
   "cell_type": "markdown",
   "id": "2119a263-db2f-4c79-80bb-a2238f967185",
   "metadata": {},
   "source": [
    "# Horizonal Rule\n",
    "Line 1\n",
    "***\n",
    "Line 2\n",
    "\n",
    "# Numbered List\n",
    "1. Name\n",
    "2. ID\n",
    "3. Address\n",
    "\n",
    "# Table\n",
    "\n",
    "| Name | ID |\n",
    "| ------ |------|\n",
    "| Ankita | 1 |\n",
    "| ------ |------|\n",
    "| Anup | 2 |"
   ]
  },
  {
   "cell_type": "code",
   "execution_count": null,
   "id": "f9c6cee2-106a-401b-ab2e-e3cae6d4cc9b",
   "metadata": {},
   "outputs": [],
   "source": []
  }
 ],
 "metadata": {
  "kernelspec": {
   "display_name": "Python",
   "language": "python",
   "name": "conda-env-python-py"
  },
  "language_info": {
   "codemirror_mode": {
    "name": "ipython",
    "version": 3
   },
   "file_extension": ".py",
   "mimetype": "text/x-python",
   "name": "python",
   "nbconvert_exporter": "python",
   "pygments_lexer": "ipython3",
   "version": "3.7.12"
  }
 },
 "nbformat": 4,
 "nbformat_minor": 5
}
